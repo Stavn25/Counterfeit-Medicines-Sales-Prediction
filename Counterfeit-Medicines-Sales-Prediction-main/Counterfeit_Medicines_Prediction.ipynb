{
 "cells": [
  {
   "cell_type": "markdown",
   "id": "313d0e7b",
   "metadata": {},
   "source": [
    "# Counterfeit Medicines Sales Prediction"
   ]
  },
  {
   "cell_type": "markdown",
   "id": "5eb46c32",
   "metadata": {},
   "source": [
    "### Data Loading and pre processing"
   ]
  },
  {
   "cell_type": "code",
   "execution_count": 1,
   "id": "5c3dbd69",
   "metadata": {},
   "outputs": [],
   "source": [
    "import warnings\n",
    "warnings.filterwarnings('ignore')\n",
    "import pandas as pd\n",
    "import numpy as np"
   ]
  },
  {
   "cell_type": "code",
   "execution_count": 2,
   "id": "832b944d",
   "metadata": {},
   "outputs": [],
   "source": [
    "datafile_train=r\"C:\\Users\\isaac\\Documents\\Python Scripts\\Project\\Project 3 Public Safety\\counterfeit_train.csv\"\n",
    "datafile_test=r\"C:\\Users\\isaac\\Documents\\Python Scripts\\Project\\Project 3 Public Safety\\counterfeit_test.csv\"\n",
    "bd_train=pd.read_csv(datafile_train)\n",
    "bd_test=pd.read_csv(datafile_test)"
   ]
  },
  {
   "cell_type": "code",
   "execution_count": 5,
   "id": "0e7dca1a",
   "metadata": {},
   "outputs": [
    {
     "data": {
      "text/plain": [
       "Medicine_ID             object\n",
       "Counterfeit_Weight     float64\n",
       "DistArea_ID             object\n",
       "Active_Since             int64\n",
       "Medicine_MRP           float64\n",
       "Medicine_Type           object\n",
       "SidEffect_Level         object\n",
       "Availability_rating    float64\n",
       "Area_Type               object\n",
       "Area_City_Type          object\n",
       "Area_dist_level         object\n",
       "Counterfeit_Sales      float64\n",
       "dtype: object"
      ]
     },
     "execution_count": 5,
     "metadata": {},
     "output_type": "execute_result"
    }
   ],
   "source": [
    "bd_train.dtypes"
   ]
  },
  {
   "cell_type": "code",
   "execution_count": 4,
   "id": "1248d882",
   "metadata": {},
   "outputs": [
    {
     "data": {
      "text/plain": [
       "(6818, 12)"
      ]
     },
     "execution_count": 4,
     "metadata": {},
     "output_type": "execute_result"
    }
   ],
   "source": [
    "bd_train.shape"
   ]
  },
  {
   "cell_type": "code",
   "execution_count": 6,
   "id": "e40cc7e8",
   "metadata": {},
   "outputs": [
    {
     "data": {
      "text/plain": [
       "Medicine_ID             object\n",
       "Counterfeit_Weight     float64\n",
       "DistArea_ID             object\n",
       "Active_Since             int64\n",
       "Medicine_MRP           float64\n",
       "Medicine_Type           object\n",
       "SidEffect_Level         object\n",
       "Availability_rating    float64\n",
       "Area_Type               object\n",
       "Area_City_Type          object\n",
       "Area_dist_level         object\n",
       "dtype: object"
      ]
     },
     "execution_count": 6,
     "metadata": {},
     "output_type": "execute_result"
    }
   ],
   "source": [
    "bd_test.dtypes"
   ]
  },
  {
   "cell_type": "code",
   "execution_count": 7,
   "id": "033df607",
   "metadata": {},
   "outputs": [
    {
     "data": {
      "text/plain": [
       "(1705, 11)"
      ]
     },
     "execution_count": 7,
     "metadata": {},
     "output_type": "execute_result"
    }
   ],
   "source": [
    "bd_test.shape"
   ]
  },
  {
   "cell_type": "code",
   "execution_count": null,
   "id": "f8c7561e",
   "metadata": {},
   "outputs": [],
   "source": [
    "# drop Medicine_ID\n",
    "# get dummies - DistArea_ID, Medicine_Type, SidEffect_Level, Area_Type, Area_City_Type, Area_dist_level\n",
    "# Counterfeit_Weight missing values replace with Median"
   ]
  },
  {
   "cell_type": "code",
   "execution_count": null,
   "id": "158a5b4e",
   "metadata": {},
   "outputs": [],
   "source": [
    "bd_train['Area_dist_level'].value_counts"
   ]
  },
  {
   "cell_type": "code",
   "execution_count": 8,
   "id": "a88184c8",
   "metadata": {},
   "outputs": [],
   "source": [
    "for col in [ 'Medicine_ID']:\n",
    "    bd_train.drop(col,1,inplace=True)\n",
    "    bd_test.drop(col,1,inplace=True)"
   ]
  },
  {
   "cell_type": "code",
   "execution_count": 9,
   "id": "fd8860d2",
   "metadata": {},
   "outputs": [],
   "source": [
    "from sklearn.pipeline import Pipeline,FeatureUnion\n",
    "from sklearn.base import BaseEstimator, TransformerMixin\n",
    "\n",
    "from mypipes import *"
   ]
  },
  {
   "cell_type": "code",
   "execution_count": 10,
   "id": "f8f93008",
   "metadata": {},
   "outputs": [],
   "source": [
    "p1=pdPipeline([\n",
    "    ('var_select',VarSelector(['Counterfeit_Weight','Active_Since','Medicine_MRP','Availability_rating'])),\n",
    "    ('missing_trt',DataFrameImputer())\n",
    "])\n",
    "p2=pdPipeline([\n",
    "    ('var_select',VarSelector(['DistArea_ID', 'Medicine_Type','SidEffect_Level','Area_Type','Area_City_Type','Area_dist_level'])),\n",
    "    ('missing_trt',DataFrameImputer()),\n",
    "    ('create_dummies',get_dummies_Pipe(400))\n",
    "])"
   ]
  },
  {
   "cell_type": "code",
   "execution_count": 11,
   "id": "fafe878d",
   "metadata": {},
   "outputs": [],
   "source": [
    "data_pipe=FeatureUnion([\n",
    "    ('num_var',p1),\n",
    "    ('obj_to_dum',p2)\n",
    "])"
   ]
  },
  {
   "cell_type": "code",
   "execution_count": 12,
   "id": "dcf6e7a5",
   "metadata": {},
   "outputs": [],
   "source": [
    "x_train=pd.DataFrame(data=data_pipe.fit_transform(bd_train),\n",
    "                     columns=data_pipe.get_feature_names())"
   ]
  },
  {
   "cell_type": "code",
   "execution_count": 13,
   "id": "8218cbb3",
   "metadata": {},
   "outputs": [
    {
     "data": {
      "text/plain": [
       "(6818, 30)"
      ]
     },
     "execution_count": 13,
     "metadata": {},
     "output_type": "execute_result"
    }
   ],
   "source": [
    "x_train.shape"
   ]
  },
  {
   "cell_type": "code",
   "execution_count": 14,
   "id": "6857aaf1",
   "metadata": {},
   "outputs": [],
   "source": [
    "x_test=pd.DataFrame(data=data_pipe.transform(bd_test),\n",
    "                     columns=data_pipe.get_feature_names())"
   ]
  },
  {
   "cell_type": "code",
   "execution_count": 15,
   "id": "3a8bf2f9",
   "metadata": {},
   "outputs": [
    {
     "data": {
      "text/plain": [
       "(1705, 30)"
      ]
     },
     "execution_count": 15,
     "metadata": {},
     "output_type": "execute_result"
    }
   ],
   "source": [
    "x_test.shape"
   ]
  },
  {
   "cell_type": "code",
   "execution_count": 16,
   "id": "cbf7fac7",
   "metadata": {},
   "outputs": [
    {
     "data": {
      "text/html": [
       "<div>\n",
       "<style scoped>\n",
       "    .dataframe tbody tr th:only-of-type {\n",
       "        vertical-align: middle;\n",
       "    }\n",
       "\n",
       "    .dataframe tbody tr th {\n",
       "        vertical-align: top;\n",
       "    }\n",
       "\n",
       "    .dataframe thead th {\n",
       "        text-align: right;\n",
       "    }\n",
       "</style>\n",
       "<table border=\"1\" class=\"dataframe\">\n",
       "  <thead>\n",
       "    <tr style=\"text-align: right;\">\n",
       "      <th></th>\n",
       "      <th>num_var__Counterfeit_Weight</th>\n",
       "      <th>num_var__Active_Since</th>\n",
       "      <th>num_var__Medicine_MRP</th>\n",
       "      <th>num_var__Availability_rating</th>\n",
       "      <th>obj_to_dum__DistArea_ID_Area017</th>\n",
       "      <th>obj_to_dum__DistArea_ID_Area013</th>\n",
       "      <th>obj_to_dum__DistArea_ID_Area046</th>\n",
       "      <th>obj_to_dum__DistArea_ID_Area035</th>\n",
       "      <th>obj_to_dum__DistArea_ID_Area049</th>\n",
       "      <th>obj_to_dum__DistArea_ID_Area045</th>\n",
       "      <th>...</th>\n",
       "      <th>obj_to_dum__Medicine_Type_Tranquilizers</th>\n",
       "      <th>obj_to_dum__SidEffect_Level_mild</th>\n",
       "      <th>obj_to_dum__Area_Type_DownTown</th>\n",
       "      <th>obj_to_dum__Area_Type_MidTownResidential</th>\n",
       "      <th>obj_to_dum__Area_Type_CityLimits</th>\n",
       "      <th>obj_to_dum__Area_City_Type_Tier 3</th>\n",
       "      <th>obj_to_dum__Area_City_Type_Tier 2</th>\n",
       "      <th>obj_to_dum__Area_dist_level_Medium</th>\n",
       "      <th>obj_to_dum__Area_dist_level_Unknown</th>\n",
       "      <th>obj_to_dum__Area_dist_level_Small</th>\n",
       "    </tr>\n",
       "  </thead>\n",
       "  <tbody>\n",
       "    <tr>\n",
       "      <th>0</th>\n",
       "      <td>13.100</td>\n",
       "      <td>1995.0</td>\n",
       "      <td>160.2366</td>\n",
       "      <td>0.070422</td>\n",
       "      <td>0.0</td>\n",
       "      <td>0.0</td>\n",
       "      <td>1.0</td>\n",
       "      <td>0.0</td>\n",
       "      <td>0.0</td>\n",
       "      <td>0.0</td>\n",
       "      <td>...</td>\n",
       "      <td>0.0</td>\n",
       "      <td>0.0</td>\n",
       "      <td>1.0</td>\n",
       "      <td>0.0</td>\n",
       "      <td>0.0</td>\n",
       "      <td>0.0</td>\n",
       "      <td>0.0</td>\n",
       "      <td>0.0</td>\n",
       "      <td>0.0</td>\n",
       "      <td>1.0</td>\n",
       "    </tr>\n",
       "    <tr>\n",
       "      <th>1</th>\n",
       "      <td>13.800</td>\n",
       "      <td>1983.0</td>\n",
       "      <td>110.4384</td>\n",
       "      <td>0.013000</td>\n",
       "      <td>0.0</td>\n",
       "      <td>0.0</td>\n",
       "      <td>0.0</td>\n",
       "      <td>0.0</td>\n",
       "      <td>0.0</td>\n",
       "      <td>0.0</td>\n",
       "      <td>...</td>\n",
       "      <td>0.0</td>\n",
       "      <td>1.0</td>\n",
       "      <td>0.0</td>\n",
       "      <td>0.0</td>\n",
       "      <td>1.0</td>\n",
       "      <td>1.0</td>\n",
       "      <td>0.0</td>\n",
       "      <td>1.0</td>\n",
       "      <td>0.0</td>\n",
       "      <td>0.0</td>\n",
       "    </tr>\n",
       "    <tr>\n",
       "      <th>2</th>\n",
       "      <td>9.025</td>\n",
       "      <td>1995.0</td>\n",
       "      <td>259.4092</td>\n",
       "      <td>0.060783</td>\n",
       "      <td>0.0</td>\n",
       "      <td>0.0</td>\n",
       "      <td>1.0</td>\n",
       "      <td>0.0</td>\n",
       "      <td>0.0</td>\n",
       "      <td>0.0</td>\n",
       "      <td>...</td>\n",
       "      <td>0.0</td>\n",
       "      <td>1.0</td>\n",
       "      <td>1.0</td>\n",
       "      <td>0.0</td>\n",
       "      <td>0.0</td>\n",
       "      <td>0.0</td>\n",
       "      <td>0.0</td>\n",
       "      <td>0.0</td>\n",
       "      <td>0.0</td>\n",
       "      <td>1.0</td>\n",
       "    </tr>\n",
       "    <tr>\n",
       "      <th>3</th>\n",
       "      <td>11.800</td>\n",
       "      <td>1995.0</td>\n",
       "      <td>99.9830</td>\n",
       "      <td>0.065555</td>\n",
       "      <td>0.0</td>\n",
       "      <td>0.0</td>\n",
       "      <td>1.0</td>\n",
       "      <td>0.0</td>\n",
       "      <td>0.0</td>\n",
       "      <td>0.0</td>\n",
       "      <td>...</td>\n",
       "      <td>0.0</td>\n",
       "      <td>1.0</td>\n",
       "      <td>1.0</td>\n",
       "      <td>0.0</td>\n",
       "      <td>0.0</td>\n",
       "      <td>0.0</td>\n",
       "      <td>0.0</td>\n",
       "      <td>0.0</td>\n",
       "      <td>0.0</td>\n",
       "      <td>1.0</td>\n",
       "    </tr>\n",
       "    <tr>\n",
       "      <th>4</th>\n",
       "      <td>13.800</td>\n",
       "      <td>1983.0</td>\n",
       "      <td>56.4402</td>\n",
       "      <td>0.248859</td>\n",
       "      <td>0.0</td>\n",
       "      <td>0.0</td>\n",
       "      <td>0.0</td>\n",
       "      <td>0.0</td>\n",
       "      <td>0.0</td>\n",
       "      <td>0.0</td>\n",
       "      <td>...</td>\n",
       "      <td>0.0</td>\n",
       "      <td>0.0</td>\n",
       "      <td>0.0</td>\n",
       "      <td>1.0</td>\n",
       "      <td>0.0</td>\n",
       "      <td>0.0</td>\n",
       "      <td>0.0</td>\n",
       "      <td>0.0</td>\n",
       "      <td>0.0</td>\n",
       "      <td>1.0</td>\n",
       "    </tr>\n",
       "  </tbody>\n",
       "</table>\n",
       "<p>5 rows × 30 columns</p>\n",
       "</div>"
      ],
      "text/plain": [
       "   num_var__Counterfeit_Weight  num_var__Active_Since  num_var__Medicine_MRP  \\\n",
       "0                       13.100                 1995.0               160.2366   \n",
       "1                       13.800                 1983.0               110.4384   \n",
       "2                        9.025                 1995.0               259.4092   \n",
       "3                       11.800                 1995.0                99.9830   \n",
       "4                       13.800                 1983.0                56.4402   \n",
       "\n",
       "   num_var__Availability_rating  obj_to_dum__DistArea_ID_Area017  \\\n",
       "0                      0.070422                              0.0   \n",
       "1                      0.013000                              0.0   \n",
       "2                      0.060783                              0.0   \n",
       "3                      0.065555                              0.0   \n",
       "4                      0.248859                              0.0   \n",
       "\n",
       "   obj_to_dum__DistArea_ID_Area013  obj_to_dum__DistArea_ID_Area046  \\\n",
       "0                              0.0                              1.0   \n",
       "1                              0.0                              0.0   \n",
       "2                              0.0                              1.0   \n",
       "3                              0.0                              1.0   \n",
       "4                              0.0                              0.0   \n",
       "\n",
       "   obj_to_dum__DistArea_ID_Area035  obj_to_dum__DistArea_ID_Area049  \\\n",
       "0                              0.0                              0.0   \n",
       "1                              0.0                              0.0   \n",
       "2                              0.0                              0.0   \n",
       "3                              0.0                              0.0   \n",
       "4                              0.0                              0.0   \n",
       "\n",
       "   obj_to_dum__DistArea_ID_Area045  ...  \\\n",
       "0                              0.0  ...   \n",
       "1                              0.0  ...   \n",
       "2                              0.0  ...   \n",
       "3                              0.0  ...   \n",
       "4                              0.0  ...   \n",
       "\n",
       "   obj_to_dum__Medicine_Type_Tranquilizers  obj_to_dum__SidEffect_Level_mild  \\\n",
       "0                                      0.0                               0.0   \n",
       "1                                      0.0                               1.0   \n",
       "2                                      0.0                               1.0   \n",
       "3                                      0.0                               1.0   \n",
       "4                                      0.0                               0.0   \n",
       "\n",
       "   obj_to_dum__Area_Type_DownTown  obj_to_dum__Area_Type_MidTownResidential  \\\n",
       "0                             1.0                                       0.0   \n",
       "1                             0.0                                       0.0   \n",
       "2                             1.0                                       0.0   \n",
       "3                             1.0                                       0.0   \n",
       "4                             0.0                                       1.0   \n",
       "\n",
       "   obj_to_dum__Area_Type_CityLimits  obj_to_dum__Area_City_Type_Tier 3  \\\n",
       "0                               0.0                                0.0   \n",
       "1                               1.0                                1.0   \n",
       "2                               0.0                                0.0   \n",
       "3                               0.0                                0.0   \n",
       "4                               0.0                                0.0   \n",
       "\n",
       "   obj_to_dum__Area_City_Type_Tier 2  obj_to_dum__Area_dist_level_Medium  \\\n",
       "0                                0.0                                 0.0   \n",
       "1                                0.0                                 1.0   \n",
       "2                                0.0                                 0.0   \n",
       "3                                0.0                                 0.0   \n",
       "4                                0.0                                 0.0   \n",
       "\n",
       "   obj_to_dum__Area_dist_level_Unknown  obj_to_dum__Area_dist_level_Small  \n",
       "0                                  0.0                                1.0  \n",
       "1                                  0.0                                0.0  \n",
       "2                                  0.0                                1.0  \n",
       "3                                  0.0                                1.0  \n",
       "4                                  0.0                                1.0  \n",
       "\n",
       "[5 rows x 30 columns]"
      ]
     },
     "execution_count": 16,
     "metadata": {},
     "output_type": "execute_result"
    }
   ],
   "source": [
    "x_train.head()"
   ]
  },
  {
   "cell_type": "code",
   "execution_count": 17,
   "id": "c4f11f07",
   "metadata": {},
   "outputs": [
    {
     "data": {
      "text/html": [
       "<div>\n",
       "<style scoped>\n",
       "    .dataframe tbody tr th:only-of-type {\n",
       "        vertical-align: middle;\n",
       "    }\n",
       "\n",
       "    .dataframe tbody tr th {\n",
       "        vertical-align: top;\n",
       "    }\n",
       "\n",
       "    .dataframe thead th {\n",
       "        text-align: right;\n",
       "    }\n",
       "</style>\n",
       "<table border=\"1\" class=\"dataframe\">\n",
       "  <thead>\n",
       "    <tr style=\"text-align: right;\">\n",
       "      <th></th>\n",
       "      <th>num_var__Counterfeit_Weight</th>\n",
       "      <th>num_var__Active_Since</th>\n",
       "      <th>num_var__Medicine_MRP</th>\n",
       "      <th>num_var__Availability_rating</th>\n",
       "      <th>obj_to_dum__DistArea_ID_Area017</th>\n",
       "      <th>obj_to_dum__DistArea_ID_Area013</th>\n",
       "      <th>obj_to_dum__DistArea_ID_Area046</th>\n",
       "      <th>obj_to_dum__DistArea_ID_Area035</th>\n",
       "      <th>obj_to_dum__DistArea_ID_Area049</th>\n",
       "      <th>obj_to_dum__DistArea_ID_Area045</th>\n",
       "      <th>...</th>\n",
       "      <th>obj_to_dum__Medicine_Type_Tranquilizers</th>\n",
       "      <th>obj_to_dum__SidEffect_Level_mild</th>\n",
       "      <th>obj_to_dum__Area_Type_DownTown</th>\n",
       "      <th>obj_to_dum__Area_Type_MidTownResidential</th>\n",
       "      <th>obj_to_dum__Area_Type_CityLimits</th>\n",
       "      <th>obj_to_dum__Area_City_Type_Tier 3</th>\n",
       "      <th>obj_to_dum__Area_City_Type_Tier 2</th>\n",
       "      <th>obj_to_dum__Area_dist_level_Medium</th>\n",
       "      <th>obj_to_dum__Area_dist_level_Unknown</th>\n",
       "      <th>obj_to_dum__Area_dist_level_Small</th>\n",
       "    </tr>\n",
       "  </thead>\n",
       "  <tbody>\n",
       "    <tr>\n",
       "      <th>0</th>\n",
       "      <td>13.80</td>\n",
       "      <td>1983.0</td>\n",
       "      <td>85.5328</td>\n",
       "      <td>0.112747</td>\n",
       "      <td>0.0</td>\n",
       "      <td>0.0</td>\n",
       "      <td>0.0</td>\n",
       "      <td>0.0</td>\n",
       "      <td>0.0</td>\n",
       "      <td>0.0</td>\n",
       "      <td>...</td>\n",
       "      <td>0.0</td>\n",
       "      <td>1.0</td>\n",
       "      <td>0.0</td>\n",
       "      <td>0.0</td>\n",
       "      <td>1.0</td>\n",
       "      <td>1.0</td>\n",
       "      <td>0.0</td>\n",
       "      <td>1.0</td>\n",
       "      <td>0.0</td>\n",
       "      <td>0.0</td>\n",
       "    </tr>\n",
       "    <tr>\n",
       "      <th>1</th>\n",
       "      <td>13.45</td>\n",
       "      <td>2000.0</td>\n",
       "      <td>257.1460</td>\n",
       "      <td>0.144446</td>\n",
       "      <td>0.0</td>\n",
       "      <td>0.0</td>\n",
       "      <td>0.0</td>\n",
       "      <td>0.0</td>\n",
       "      <td>0.0</td>\n",
       "      <td>1.0</td>\n",
       "      <td>...</td>\n",
       "      <td>0.0</td>\n",
       "      <td>1.0</td>\n",
       "      <td>1.0</td>\n",
       "      <td>0.0</td>\n",
       "      <td>0.0</td>\n",
       "      <td>0.0</td>\n",
       "      <td>1.0</td>\n",
       "      <td>0.0</td>\n",
       "      <td>1.0</td>\n",
       "      <td>0.0</td>\n",
       "    </tr>\n",
       "    <tr>\n",
       "      <th>2</th>\n",
       "      <td>7.10</td>\n",
       "      <td>2000.0</td>\n",
       "      <td>98.1172</td>\n",
       "      <td>0.144221</td>\n",
       "      <td>0.0</td>\n",
       "      <td>0.0</td>\n",
       "      <td>0.0</td>\n",
       "      <td>0.0</td>\n",
       "      <td>0.0</td>\n",
       "      <td>1.0</td>\n",
       "      <td>...</td>\n",
       "      <td>0.0</td>\n",
       "      <td>1.0</td>\n",
       "      <td>1.0</td>\n",
       "      <td>0.0</td>\n",
       "      <td>0.0</td>\n",
       "      <td>0.0</td>\n",
       "      <td>1.0</td>\n",
       "      <td>0.0</td>\n",
       "      <td>1.0</td>\n",
       "      <td>0.0</td>\n",
       "    </tr>\n",
       "    <tr>\n",
       "      <th>3</th>\n",
       "      <td>18.30</td>\n",
       "      <td>1996.0</td>\n",
       "      <td>135.3730</td>\n",
       "      <td>0.100388</td>\n",
       "      <td>0.0</td>\n",
       "      <td>0.0</td>\n",
       "      <td>0.0</td>\n",
       "      <td>0.0</td>\n",
       "      <td>0.0</td>\n",
       "      <td>0.0</td>\n",
       "      <td>...</td>\n",
       "      <td>1.0</td>\n",
       "      <td>1.0</td>\n",
       "      <td>0.0</td>\n",
       "      <td>1.0</td>\n",
       "      <td>0.0</td>\n",
       "      <td>1.0</td>\n",
       "      <td>0.0</td>\n",
       "      <td>0.0</td>\n",
       "      <td>1.0</td>\n",
       "      <td>0.0</td>\n",
       "    </tr>\n",
       "    <tr>\n",
       "      <th>4</th>\n",
       "      <td>13.80</td>\n",
       "      <td>1983.0</td>\n",
       "      <td>112.8016</td>\n",
       "      <td>0.022585</td>\n",
       "      <td>0.0</td>\n",
       "      <td>0.0</td>\n",
       "      <td>0.0</td>\n",
       "      <td>0.0</td>\n",
       "      <td>0.0</td>\n",
       "      <td>0.0</td>\n",
       "      <td>...</td>\n",
       "      <td>0.0</td>\n",
       "      <td>1.0</td>\n",
       "      <td>0.0</td>\n",
       "      <td>1.0</td>\n",
       "      <td>0.0</td>\n",
       "      <td>0.0</td>\n",
       "      <td>0.0</td>\n",
       "      <td>0.0</td>\n",
       "      <td>0.0</td>\n",
       "      <td>1.0</td>\n",
       "    </tr>\n",
       "  </tbody>\n",
       "</table>\n",
       "<p>5 rows × 30 columns</p>\n",
       "</div>"
      ],
      "text/plain": [
       "   num_var__Counterfeit_Weight  num_var__Active_Since  num_var__Medicine_MRP  \\\n",
       "0                        13.80                 1983.0                85.5328   \n",
       "1                        13.45                 2000.0               257.1460   \n",
       "2                         7.10                 2000.0                98.1172   \n",
       "3                        18.30                 1996.0               135.3730   \n",
       "4                        13.80                 1983.0               112.8016   \n",
       "\n",
       "   num_var__Availability_rating  obj_to_dum__DistArea_ID_Area017  \\\n",
       "0                      0.112747                              0.0   \n",
       "1                      0.144446                              0.0   \n",
       "2                      0.144221                              0.0   \n",
       "3                      0.100388                              0.0   \n",
       "4                      0.022585                              0.0   \n",
       "\n",
       "   obj_to_dum__DistArea_ID_Area013  obj_to_dum__DistArea_ID_Area046  \\\n",
       "0                              0.0                              0.0   \n",
       "1                              0.0                              0.0   \n",
       "2                              0.0                              0.0   \n",
       "3                              0.0                              0.0   \n",
       "4                              0.0                              0.0   \n",
       "\n",
       "   obj_to_dum__DistArea_ID_Area035  obj_to_dum__DistArea_ID_Area049  \\\n",
       "0                              0.0                              0.0   \n",
       "1                              0.0                              0.0   \n",
       "2                              0.0                              0.0   \n",
       "3                              0.0                              0.0   \n",
       "4                              0.0                              0.0   \n",
       "\n",
       "   obj_to_dum__DistArea_ID_Area045  ...  \\\n",
       "0                              0.0  ...   \n",
       "1                              1.0  ...   \n",
       "2                              1.0  ...   \n",
       "3                              0.0  ...   \n",
       "4                              0.0  ...   \n",
       "\n",
       "   obj_to_dum__Medicine_Type_Tranquilizers  obj_to_dum__SidEffect_Level_mild  \\\n",
       "0                                      0.0                               1.0   \n",
       "1                                      0.0                               1.0   \n",
       "2                                      0.0                               1.0   \n",
       "3                                      1.0                               1.0   \n",
       "4                                      0.0                               1.0   \n",
       "\n",
       "   obj_to_dum__Area_Type_DownTown  obj_to_dum__Area_Type_MidTownResidential  \\\n",
       "0                             0.0                                       0.0   \n",
       "1                             1.0                                       0.0   \n",
       "2                             1.0                                       0.0   \n",
       "3                             0.0                                       1.0   \n",
       "4                             0.0                                       1.0   \n",
       "\n",
       "   obj_to_dum__Area_Type_CityLimits  obj_to_dum__Area_City_Type_Tier 3  \\\n",
       "0                               1.0                                1.0   \n",
       "1                               0.0                                0.0   \n",
       "2                               0.0                                0.0   \n",
       "3                               0.0                                1.0   \n",
       "4                               0.0                                0.0   \n",
       "\n",
       "   obj_to_dum__Area_City_Type_Tier 2  obj_to_dum__Area_dist_level_Medium  \\\n",
       "0                                0.0                                 1.0   \n",
       "1                                1.0                                 0.0   \n",
       "2                                1.0                                 0.0   \n",
       "3                                0.0                                 0.0   \n",
       "4                                0.0                                 0.0   \n",
       "\n",
       "   obj_to_dum__Area_dist_level_Unknown  obj_to_dum__Area_dist_level_Small  \n",
       "0                                  0.0                                0.0  \n",
       "1                                  1.0                                0.0  \n",
       "2                                  1.0                                0.0  \n",
       "3                                  1.0                                0.0  \n",
       "4                                  0.0                                1.0  \n",
       "\n",
       "[5 rows x 30 columns]"
      ]
     },
     "execution_count": 17,
     "metadata": {},
     "output_type": "execute_result"
    }
   ],
   "source": [
    "x_test.head()"
   ]
  },
  {
   "cell_type": "code",
   "execution_count": 18,
   "id": "35da5326",
   "metadata": {},
   "outputs": [],
   "source": [
    "y_train=bd_train['Counterfeit_Sales']"
   ]
  },
  {
   "cell_type": "markdown",
   "id": "03a13d49",
   "metadata": {},
   "source": [
    "### Splitting the training data for training and validation"
   ]
  },
  {
   "cell_type": "code",
   "execution_count": 19,
   "id": "23b15e72",
   "metadata": {},
   "outputs": [],
   "source": [
    "from sklearn.model_selection import train_test_split"
   ]
  },
  {
   "cell_type": "code",
   "execution_count": 20,
   "id": "4584321c",
   "metadata": {},
   "outputs": [],
   "source": [
    "x_train = pd.concat([x_train, bd_train['Counterfeit_Sales']],axis =1)"
   ]
  },
  {
   "cell_type": "code",
   "execution_count": 21,
   "id": "fa118520",
   "metadata": {},
   "outputs": [
    {
     "data": {
      "text/html": [
       "<div>\n",
       "<style scoped>\n",
       "    .dataframe tbody tr th:only-of-type {\n",
       "        vertical-align: middle;\n",
       "    }\n",
       "\n",
       "    .dataframe tbody tr th {\n",
       "        vertical-align: top;\n",
       "    }\n",
       "\n",
       "    .dataframe thead th {\n",
       "        text-align: right;\n",
       "    }\n",
       "</style>\n",
       "<table border=\"1\" class=\"dataframe\">\n",
       "  <thead>\n",
       "    <tr style=\"text-align: right;\">\n",
       "      <th></th>\n",
       "      <th>num_var__Counterfeit_Weight</th>\n",
       "      <th>num_var__Active_Since</th>\n",
       "      <th>num_var__Medicine_MRP</th>\n",
       "      <th>num_var__Availability_rating</th>\n",
       "      <th>obj_to_dum__DistArea_ID_Area017</th>\n",
       "      <th>obj_to_dum__DistArea_ID_Area013</th>\n",
       "      <th>obj_to_dum__DistArea_ID_Area046</th>\n",
       "      <th>obj_to_dum__DistArea_ID_Area035</th>\n",
       "      <th>obj_to_dum__DistArea_ID_Area049</th>\n",
       "      <th>obj_to_dum__DistArea_ID_Area045</th>\n",
       "      <th>...</th>\n",
       "      <th>obj_to_dum__SidEffect_Level_mild</th>\n",
       "      <th>obj_to_dum__Area_Type_DownTown</th>\n",
       "      <th>obj_to_dum__Area_Type_MidTownResidential</th>\n",
       "      <th>obj_to_dum__Area_Type_CityLimits</th>\n",
       "      <th>obj_to_dum__Area_City_Type_Tier 3</th>\n",
       "      <th>obj_to_dum__Area_City_Type_Tier 2</th>\n",
       "      <th>obj_to_dum__Area_dist_level_Medium</th>\n",
       "      <th>obj_to_dum__Area_dist_level_Unknown</th>\n",
       "      <th>obj_to_dum__Area_dist_level_Small</th>\n",
       "      <th>Counterfeit_Sales</th>\n",
       "    </tr>\n",
       "  </thead>\n",
       "  <tbody>\n",
       "    <tr>\n",
       "      <th>0</th>\n",
       "      <td>13.100</td>\n",
       "      <td>1995.0</td>\n",
       "      <td>160.2366</td>\n",
       "      <td>0.070422</td>\n",
       "      <td>0.0</td>\n",
       "      <td>0.0</td>\n",
       "      <td>1.0</td>\n",
       "      <td>0.0</td>\n",
       "      <td>0.0</td>\n",
       "      <td>0.0</td>\n",
       "      <td>...</td>\n",
       "      <td>0.0</td>\n",
       "      <td>1.0</td>\n",
       "      <td>0.0</td>\n",
       "      <td>0.0</td>\n",
       "      <td>0.0</td>\n",
       "      <td>0.0</td>\n",
       "      <td>0.0</td>\n",
       "      <td>0.0</td>\n",
       "      <td>1.0</td>\n",
       "      <td>1775.5026</td>\n",
       "    </tr>\n",
       "    <tr>\n",
       "      <th>1</th>\n",
       "      <td>13.800</td>\n",
       "      <td>1983.0</td>\n",
       "      <td>110.4384</td>\n",
       "      <td>0.013000</td>\n",
       "      <td>0.0</td>\n",
       "      <td>0.0</td>\n",
       "      <td>0.0</td>\n",
       "      <td>0.0</td>\n",
       "      <td>0.0</td>\n",
       "      <td>0.0</td>\n",
       "      <td>...</td>\n",
       "      <td>1.0</td>\n",
       "      <td>0.0</td>\n",
       "      <td>0.0</td>\n",
       "      <td>1.0</td>\n",
       "      <td>1.0</td>\n",
       "      <td>0.0</td>\n",
       "      <td>1.0</td>\n",
       "      <td>0.0</td>\n",
       "      <td>0.0</td>\n",
       "      <td>3069.1520</td>\n",
       "    </tr>\n",
       "    <tr>\n",
       "      <th>2</th>\n",
       "      <td>9.025</td>\n",
       "      <td>1995.0</td>\n",
       "      <td>259.4092</td>\n",
       "      <td>0.060783</td>\n",
       "      <td>0.0</td>\n",
       "      <td>0.0</td>\n",
       "      <td>1.0</td>\n",
       "      <td>0.0</td>\n",
       "      <td>0.0</td>\n",
       "      <td>0.0</td>\n",
       "      <td>...</td>\n",
       "      <td>1.0</td>\n",
       "      <td>1.0</td>\n",
       "      <td>0.0</td>\n",
       "      <td>0.0</td>\n",
       "      <td>0.0</td>\n",
       "      <td>0.0</td>\n",
       "      <td>0.0</td>\n",
       "      <td>0.0</td>\n",
       "      <td>1.0</td>\n",
       "      <td>2603.0920</td>\n",
       "    </tr>\n",
       "    <tr>\n",
       "      <th>3</th>\n",
       "      <td>11.800</td>\n",
       "      <td>1995.0</td>\n",
       "      <td>99.9830</td>\n",
       "      <td>0.065555</td>\n",
       "      <td>0.0</td>\n",
       "      <td>0.0</td>\n",
       "      <td>1.0</td>\n",
       "      <td>0.0</td>\n",
       "      <td>0.0</td>\n",
       "      <td>0.0</td>\n",
       "      <td>...</td>\n",
       "      <td>1.0</td>\n",
       "      <td>1.0</td>\n",
       "      <td>0.0</td>\n",
       "      <td>0.0</td>\n",
       "      <td>0.0</td>\n",
       "      <td>0.0</td>\n",
       "      <td>0.0</td>\n",
       "      <td>0.0</td>\n",
       "      <td>1.0</td>\n",
       "      <td>1101.7130</td>\n",
       "    </tr>\n",
       "    <tr>\n",
       "      <th>4</th>\n",
       "      <td>13.800</td>\n",
       "      <td>1983.0</td>\n",
       "      <td>56.4402</td>\n",
       "      <td>0.248859</td>\n",
       "      <td>0.0</td>\n",
       "      <td>0.0</td>\n",
       "      <td>0.0</td>\n",
       "      <td>0.0</td>\n",
       "      <td>0.0</td>\n",
       "      <td>0.0</td>\n",
       "      <td>...</td>\n",
       "      <td>0.0</td>\n",
       "      <td>0.0</td>\n",
       "      <td>1.0</td>\n",
       "      <td>0.0</td>\n",
       "      <td>0.0</td>\n",
       "      <td>0.0</td>\n",
       "      <td>0.0</td>\n",
       "      <td>0.0</td>\n",
       "      <td>1.0</td>\n",
       "      <td>158.9402</td>\n",
       "    </tr>\n",
       "  </tbody>\n",
       "</table>\n",
       "<p>5 rows × 31 columns</p>\n",
       "</div>"
      ],
      "text/plain": [
       "   num_var__Counterfeit_Weight  num_var__Active_Since  num_var__Medicine_MRP  \\\n",
       "0                       13.100                 1995.0               160.2366   \n",
       "1                       13.800                 1983.0               110.4384   \n",
       "2                        9.025                 1995.0               259.4092   \n",
       "3                       11.800                 1995.0                99.9830   \n",
       "4                       13.800                 1983.0                56.4402   \n",
       "\n",
       "   num_var__Availability_rating  obj_to_dum__DistArea_ID_Area017  \\\n",
       "0                      0.070422                              0.0   \n",
       "1                      0.013000                              0.0   \n",
       "2                      0.060783                              0.0   \n",
       "3                      0.065555                              0.0   \n",
       "4                      0.248859                              0.0   \n",
       "\n",
       "   obj_to_dum__DistArea_ID_Area013  obj_to_dum__DistArea_ID_Area046  \\\n",
       "0                              0.0                              1.0   \n",
       "1                              0.0                              0.0   \n",
       "2                              0.0                              1.0   \n",
       "3                              0.0                              1.0   \n",
       "4                              0.0                              0.0   \n",
       "\n",
       "   obj_to_dum__DistArea_ID_Area035  obj_to_dum__DistArea_ID_Area049  \\\n",
       "0                              0.0                              0.0   \n",
       "1                              0.0                              0.0   \n",
       "2                              0.0                              0.0   \n",
       "3                              0.0                              0.0   \n",
       "4                              0.0                              0.0   \n",
       "\n",
       "   obj_to_dum__DistArea_ID_Area045  ...  obj_to_dum__SidEffect_Level_mild  \\\n",
       "0                              0.0  ...                               0.0   \n",
       "1                              0.0  ...                               1.0   \n",
       "2                              0.0  ...                               1.0   \n",
       "3                              0.0  ...                               1.0   \n",
       "4                              0.0  ...                               0.0   \n",
       "\n",
       "   obj_to_dum__Area_Type_DownTown  obj_to_dum__Area_Type_MidTownResidential  \\\n",
       "0                             1.0                                       0.0   \n",
       "1                             0.0                                       0.0   \n",
       "2                             1.0                                       0.0   \n",
       "3                             1.0                                       0.0   \n",
       "4                             0.0                                       1.0   \n",
       "\n",
       "   obj_to_dum__Area_Type_CityLimits  obj_to_dum__Area_City_Type_Tier 3  \\\n",
       "0                               0.0                                0.0   \n",
       "1                               1.0                                1.0   \n",
       "2                               0.0                                0.0   \n",
       "3                               0.0                                0.0   \n",
       "4                               0.0                                0.0   \n",
       "\n",
       "   obj_to_dum__Area_City_Type_Tier 2  obj_to_dum__Area_dist_level_Medium  \\\n",
       "0                                0.0                                 0.0   \n",
       "1                                0.0                                 1.0   \n",
       "2                                0.0                                 0.0   \n",
       "3                                0.0                                 0.0   \n",
       "4                                0.0                                 0.0   \n",
       "\n",
       "   obj_to_dum__Area_dist_level_Unknown  obj_to_dum__Area_dist_level_Small  \\\n",
       "0                                  0.0                                1.0   \n",
       "1                                  0.0                                0.0   \n",
       "2                                  0.0                                1.0   \n",
       "3                                  0.0                                1.0   \n",
       "4                                  0.0                                1.0   \n",
       "\n",
       "   Counterfeit_Sales  \n",
       "0          1775.5026  \n",
       "1          3069.1520  \n",
       "2          2603.0920  \n",
       "3          1101.7130  \n",
       "4           158.9402  \n",
       "\n",
       "[5 rows x 31 columns]"
      ]
     },
     "execution_count": 21,
     "metadata": {},
     "output_type": "execute_result"
    }
   ],
   "source": [
    "x_train.head()"
   ]
  },
  {
   "cell_type": "code",
   "execution_count": 22,
   "id": "adc667fd",
   "metadata": {},
   "outputs": [],
   "source": [
    "a_train, a_test = train_test_split(x_train, test_size = 0.2, random_state=42)"
   ]
  },
  {
   "cell_type": "code",
   "execution_count": 23,
   "id": "04e556b5",
   "metadata": {},
   "outputs": [],
   "source": [
    "x_train1=a_train.drop(['Counterfeit_Sales'],axis=1)\n",
    "y_train1=a_train['Counterfeit_Sales']"
   ]
  },
  {
   "cell_type": "code",
   "execution_count": 24,
   "id": "bbd4f802",
   "metadata": {},
   "outputs": [],
   "source": [
    "x_train_test1=a_test.drop(['Counterfeit_Sales'],axis=1)"
   ]
  },
  {
   "cell_type": "code",
   "execution_count": 25,
   "id": "a422f555",
   "metadata": {},
   "outputs": [],
   "source": [
    "from sklearn.linear_model import LinearRegression\n",
    "from sklearn.model_selection import cross_val_score\n",
    "from sklearn.linear_model import Ridge,Lasso\n",
    "from sklearn.model_selection import GridSearchCV\n",
    "from sklearn.model_selection import RandomizedSearchCV"
   ]
  },
  {
   "cell_type": "markdown",
   "id": "dae706f7",
   "metadata": {},
   "source": [
    "### Lasso Regerssion"
   ]
  },
  {
   "cell_type": "code",
   "execution_count": null,
   "id": "6c0505ae",
   "metadata": {},
   "outputs": [],
   "source": [
    "params={'alpha':np.linspace(0.1,10,50)}"
   ]
  },
  {
   "cell_type": "code",
   "execution_count": null,
   "id": "72222b3e",
   "metadata": {},
   "outputs": [],
   "source": [
    "lasmodel=Lasso(fit_intercept=True)"
   ]
  },
  {
   "cell_type": "code",
   "execution_count": null,
   "id": "c58e66fb",
   "metadata": {},
   "outputs": [],
   "source": [
    "grid_search=GridSearchCV(lasmodel,\n",
    "                         cv=10,\n",
    "                         param_grid=params,\n",
    "                         n_jobs=-1,\n",
    "                         verbose=10,\n",
    "                         scoring='neg_mean_absolute_error')"
   ]
  },
  {
   "cell_type": "code",
   "execution_count": null,
   "id": "fae86c96",
   "metadata": {},
   "outputs": [],
   "source": [
    "grid_search.fit(x_train1,y_train1)"
   ]
  },
  {
   "cell_type": "code",
   "execution_count": null,
   "id": "abf8c94f",
   "metadata": {},
   "outputs": [],
   "source": [
    "grid_search.best_estimator_"
   ]
  },
  {
   "cell_type": "code",
   "execution_count": null,
   "id": "10b9ec07",
   "metadata": {},
   "outputs": [],
   "source": [
    "def report(results, n_top=3):\n",
    "    for i in range(1, n_top + 1):\n",
    "        candidates = np.flatnonzero(results['rank_test_score'] == i)\n",
    "        for candidate in candidates:\n",
    "            print(\"Model with rank: {0}\".format(i))\n",
    "            print(\"Mean validation score: {0:.6f} (std: {1:.6f})\".format(\n",
    "                  results['mean_test_score'][candidate],\n",
    "                  results['std_test_score'][candidate]))\n",
    "            print(\"Parameters: {0}\".format(results['params'][candidate]))\n",
    "            print(\"\")"
   ]
  },
  {
   "cell_type": "code",
   "execution_count": null,
   "id": "7d02a5b1",
   "metadata": {},
   "outputs": [],
   "source": [
    "report(grid_search.cv_results_,5)"
   ]
  },
  {
   "cell_type": "code",
   "execution_count": null,
   "id": "3e24b73b",
   "metadata": {},
   "outputs": [],
   "source": [
    "lasso_model=grid_search.best_estimator_"
   ]
  },
  {
   "cell_type": "code",
   "execution_count": null,
   "id": "57385826",
   "metadata": {},
   "outputs": [],
   "source": [
    "lasso_model.fit(x_train1,y_train1)"
   ]
  },
  {
   "cell_type": "code",
   "execution_count": null,
   "id": "791f2ec0",
   "metadata": {},
   "outputs": [],
   "source": [
    "lasso_model.intercept_"
   ]
  },
  {
   "cell_type": "code",
   "execution_count": null,
   "id": "0b64093d",
   "metadata": {},
   "outputs": [],
   "source": [
    "predlas=lasso_model.predict(x_train_test1)"
   ]
  },
  {
   "cell_type": "code",
   "execution_count": 37,
   "id": "b08cd12f",
   "metadata": {},
   "outputs": [],
   "source": [
    "from sklearn.metrics import mean_absolute_error\n",
    "from sklearn.metrics import mean_absolute_percentage_error"
   ]
  },
  {
   "cell_type": "code",
   "execution_count": null,
   "id": "e2a914ff",
   "metadata": {},
   "outputs": [],
   "source": [
    "MAE = mean_absolute_error(a_test['Counterfeit_Sales'],predlas)"
   ]
  },
  {
   "cell_type": "code",
   "execution_count": null,
   "id": "92347213",
   "metadata": {},
   "outputs": [],
   "source": [
    "MAE"
   ]
  },
  {
   "cell_type": "code",
   "execution_count": null,
   "id": "81a1987c",
   "metadata": {},
   "outputs": [],
   "source": [
    "Score = 1-(MAE/1660)"
   ]
  },
  {
   "cell_type": "code",
   "execution_count": null,
   "id": "a06a7423",
   "metadata": {},
   "outputs": [],
   "source": [
    "Score"
   ]
  },
  {
   "cell_type": "markdown",
   "id": "f8244588",
   "metadata": {},
   "source": [
    "### Lasso regression with random search"
   ]
  },
  {
   "cell_type": "code",
   "execution_count": null,
   "id": "2779687b",
   "metadata": {},
   "outputs": [],
   "source": [
    "params={'alpha':np.linspace(0.1,10,50)}"
   ]
  },
  {
   "cell_type": "code",
   "execution_count": null,
   "id": "a63045e1",
   "metadata": {},
   "outputs": [],
   "source": [
    "lasrdmodel=Lasso(fit_intercept=True)"
   ]
  },
  {
   "cell_type": "code",
   "execution_count": null,
   "id": "56b1b2d3",
   "metadata": {},
   "outputs": [],
   "source": [
    "random_search=RandomizedSearchCV(lasrdmodel,\n",
    "                                 cv=10,\n",
    "                                 param_distributions=params,\n",
    "                                 n_jobs=-1,\n",
    "                                 verbose=10,\n",
    "                                 scoring='neg_mean_absolute_error')"
   ]
  },
  {
   "cell_type": "code",
   "execution_count": null,
   "id": "24091acd",
   "metadata": {},
   "outputs": [],
   "source": [
    "random_search.fit(x_train1,y_train1)"
   ]
  },
  {
   "cell_type": "code",
   "execution_count": null,
   "id": "ec9d648a",
   "metadata": {},
   "outputs": [],
   "source": [
    "random_search.best_estimator_"
   ]
  },
  {
   "cell_type": "code",
   "execution_count": null,
   "id": "531da752",
   "metadata": {},
   "outputs": [],
   "source": [
    "def report(results, n_top=3):\n",
    "    for i in range(1, n_top + 1):\n",
    "        candidates = np.flatnonzero(results['rank_test_score'] == i)\n",
    "        for candidate in candidates:\n",
    "            print(\"Model with rank: {0}\".format(i))\n",
    "            print(\"Mean validation score: {0:.6f} (std: {1:.6f})\".format(\n",
    "                  results['mean_test_score'][candidate],\n",
    "                  results['std_test_score'][candidate]))\n",
    "            print(\"Parameters: {0}\".format(results['params'][candidate]))\n",
    "            print(\"\")"
   ]
  },
  {
   "cell_type": "code",
   "execution_count": null,
   "id": "8da33fd2",
   "metadata": {},
   "outputs": [],
   "source": [
    "report(random_search.cv_results_,5)"
   ]
  },
  {
   "cell_type": "code",
   "execution_count": null,
   "id": "a38f180a",
   "metadata": {},
   "outputs": [],
   "source": [
    "lassors_model=random_search.best_estimator_"
   ]
  },
  {
   "cell_type": "code",
   "execution_count": null,
   "id": "80672213",
   "metadata": {},
   "outputs": [],
   "source": [
    "lassors_model.fit(x_train1,y_train1)"
   ]
  },
  {
   "cell_type": "code",
   "execution_count": null,
   "id": "28eb2257",
   "metadata": {},
   "outputs": [],
   "source": [
    "predlasrs=lassors_model.predict(x_train_test1)"
   ]
  },
  {
   "cell_type": "code",
   "execution_count": null,
   "id": "e8b3ffcf",
   "metadata": {},
   "outputs": [],
   "source": [
    "MAE = mean_absolute_error(a_test['Counterfeit_Sales'],predlasrs)"
   ]
  },
  {
   "cell_type": "code",
   "execution_count": null,
   "id": "fbf9a908",
   "metadata": {},
   "outputs": [],
   "source": [
    "MAE"
   ]
  },
  {
   "cell_type": "code",
   "execution_count": null,
   "id": "86de84e9",
   "metadata": {},
   "outputs": [],
   "source": [
    "Score = 1-(MAE/1660)"
   ]
  },
  {
   "cell_type": "code",
   "execution_count": null,
   "id": "f2ef6e7d",
   "metadata": {},
   "outputs": [],
   "source": [
    "Score"
   ]
  },
  {
   "cell_type": "code",
   "execution_count": 26,
   "id": "4bbe91a9",
   "metadata": {},
   "outputs": [],
   "source": [
    "from sklearn.tree import DecisionTreeRegressor\n",
    "from sklearn.ensemble import RandomForestRegressor\n",
    "from sklearn.ensemble import ExtraTreesRegressor"
   ]
  },
  {
   "cell_type": "markdown",
   "id": "522f061c",
   "metadata": {},
   "source": [
    "### Decision Tree"
   ]
  },
  {
   "cell_type": "code",
   "execution_count": 27,
   "id": "adcb8334",
   "metadata": {},
   "outputs": [],
   "source": [
    "params={ \n",
    "        'max_depth':[None,5,10,15,20],\n",
    "            'min_samples_leaf':[1,2,5], \n",
    "            'min_samples_split':[2,5,8]\n",
    "       }"
   ]
  },
  {
   "cell_type": "code",
   "execution_count": 28,
   "id": "d117c9cb",
   "metadata": {},
   "outputs": [],
   "source": [
    "reg=DecisionTreeRegressor()"
   ]
  },
  {
   "cell_type": "code",
   "execution_count": 29,
   "id": "1fcc5ed8",
   "metadata": {},
   "outputs": [],
   "source": [
    "random_search=RandomizedSearchCV(reg,\n",
    "                                 cv=10,\n",
    "                                 param_distributions=params,\n",
    "                                 scoring='neg_mean_absolute_error',\n",
    "                                 n_iter=10,n_jobs=-1,verbose=20\n",
    "                                    )"
   ]
  },
  {
   "cell_type": "code",
   "execution_count": 30,
   "id": "1be3b52c",
   "metadata": {},
   "outputs": [
    {
     "name": "stdout",
     "output_type": "stream",
     "text": [
      "Fitting 10 folds for each of 10 candidates, totalling 100 fits\n"
     ]
    },
    {
     "data": {
      "text/plain": [
       "RandomizedSearchCV(cv=10, estimator=DecisionTreeRegressor(), n_jobs=-1,\n",
       "                   param_distributions={'max_depth': [None, 5, 10, 15, 20],\n",
       "                                        'min_samples_leaf': [1, 2, 5],\n",
       "                                        'min_samples_split': [2, 5, 8]},\n",
       "                   scoring='neg_mean_absolute_error', verbose=20)"
      ]
     },
     "execution_count": 30,
     "metadata": {},
     "output_type": "execute_result"
    }
   ],
   "source": [
    "random_search.fit(x_train1,y_train1)"
   ]
  },
  {
   "cell_type": "code",
   "execution_count": 31,
   "id": "4f517891",
   "metadata": {},
   "outputs": [],
   "source": [
    "def report(results, n_top=3):\n",
    "    for i in range(1, n_top + 1):\n",
    "        candidates = np.flatnonzero(results['rank_test_score'] == i)\n",
    "        for candidate in candidates:\n",
    "            print(\"Model with rank: {0}\".format(i))\n",
    "            print(\"Mean validation score: {0:.5f} (std: {1:.5f})\".format(\n",
    "                  results['mean_test_score'][candidate],\n",
    "                  results['std_test_score'][candidate]))\n",
    "            print(\"Parameters: {0}\".format(results['params'][candidate]))\n",
    "            print(\"\")"
   ]
  },
  {
   "cell_type": "code",
   "execution_count": 32,
   "id": "5d643453",
   "metadata": {},
   "outputs": [
    {
     "name": "stdout",
     "output_type": "stream",
     "text": [
      "Model with rank: 1\n",
      "Mean validation score: -758.92778 (std: 27.72597)\n",
      "Parameters: {'min_samples_split': 8, 'min_samples_leaf': 5, 'max_depth': 5}\n",
      "\n",
      "Model with rank: 2\n",
      "Mean validation score: -759.50043 (std: 28.25240)\n",
      "Parameters: {'min_samples_split': 5, 'min_samples_leaf': 2, 'max_depth': 5}\n",
      "\n",
      "Model with rank: 2\n",
      "Mean validation score: -759.50043 (std: 28.25240)\n",
      "Parameters: {'min_samples_split': 2, 'min_samples_leaf': 2, 'max_depth': 5}\n",
      "\n",
      "Model with rank: 4\n",
      "Mean validation score: -812.46445 (std: 39.57510)\n",
      "Parameters: {'min_samples_split': 2, 'min_samples_leaf': 5, 'max_depth': 10}\n",
      "\n",
      "Model with rank: 5\n",
      "Mean validation score: -812.46586 (std: 39.57441)\n",
      "Parameters: {'min_samples_split': 8, 'min_samples_leaf': 5, 'max_depth': 10}\n",
      "\n"
     ]
    }
   ],
   "source": [
    "report(random_search.cv_results_,5)"
   ]
  },
  {
   "cell_type": "code",
   "execution_count": 33,
   "id": "1a344944",
   "metadata": {},
   "outputs": [],
   "source": [
    "dtree=DecisionTreeRegressor(**{'min_samples_split': 2, 'min_samples_leaf': 1, 'max_depth': 5})"
   ]
  },
  {
   "cell_type": "code",
   "execution_count": 34,
   "id": "339fc965",
   "metadata": {},
   "outputs": [
    {
     "data": {
      "text/plain": [
       "DecisionTreeRegressor(max_depth=5)"
      ]
     },
     "execution_count": 34,
     "metadata": {},
     "output_type": "execute_result"
    }
   ],
   "source": [
    "dtree.fit(x_train1,y_train1)"
   ]
  },
  {
   "cell_type": "code",
   "execution_count": 35,
   "id": "1589e25c",
   "metadata": {},
   "outputs": [],
   "source": [
    "pred_dtree=dtree.predict(x_train_test1)"
   ]
  },
  {
   "cell_type": "code",
   "execution_count": 38,
   "id": "27c77193",
   "metadata": {},
   "outputs": [
    {
     "data": {
      "text/plain": [
       "756.6654928864681"
      ]
     },
     "execution_count": 38,
     "metadata": {},
     "output_type": "execute_result"
    }
   ],
   "source": [
    "mean_absolute_error(a_test['Counterfeit_Sales'],pred_dtree)"
   ]
  },
  {
   "cell_type": "code",
   "execution_count": 39,
   "id": "6e8d728d",
   "metadata": {},
   "outputs": [],
   "source": [
    "MAE = mean_absolute_error(a_test['Counterfeit_Sales'],pred_dtree)"
   ]
  },
  {
   "cell_type": "code",
   "execution_count": 40,
   "id": "8095eab0",
   "metadata": {},
   "outputs": [],
   "source": [
    "Score = 1-(MAE/1660)"
   ]
  },
  {
   "cell_type": "markdown",
   "id": "842e63b4",
   "metadata": {},
   "source": [
    "### best score so far"
   ]
  },
  {
   "cell_type": "code",
   "execution_count": 41,
   "id": "55036e2f",
   "metadata": {},
   "outputs": [
    {
     "data": {
      "text/plain": [
       "0.5441774139238145"
      ]
     },
     "execution_count": 41,
     "metadata": {},
     "output_type": "execute_result"
    }
   ],
   "source": [
    "Score"
   ]
  },
  {
   "cell_type": "code",
   "execution_count": 42,
   "id": "d962fc2d",
   "metadata": {},
   "outputs": [
    {
     "data": {
      "text/html": [
       "<div>\n",
       "<style scoped>\n",
       "    .dataframe tbody tr th:only-of-type {\n",
       "        vertical-align: middle;\n",
       "    }\n",
       "\n",
       "    .dataframe tbody tr th {\n",
       "        vertical-align: top;\n",
       "    }\n",
       "\n",
       "    .dataframe thead th {\n",
       "        text-align: right;\n",
       "    }\n",
       "</style>\n",
       "<table border=\"1\" class=\"dataframe\">\n",
       "  <thead>\n",
       "    <tr style=\"text-align: right;\">\n",
       "      <th></th>\n",
       "      <th>num_var__Counterfeit_Weight</th>\n",
       "      <th>num_var__Active_Since</th>\n",
       "      <th>num_var__Medicine_MRP</th>\n",
       "      <th>num_var__Availability_rating</th>\n",
       "      <th>obj_to_dum__DistArea_ID_Area017</th>\n",
       "      <th>obj_to_dum__DistArea_ID_Area013</th>\n",
       "      <th>obj_to_dum__DistArea_ID_Area046</th>\n",
       "      <th>obj_to_dum__DistArea_ID_Area035</th>\n",
       "      <th>obj_to_dum__DistArea_ID_Area049</th>\n",
       "      <th>obj_to_dum__DistArea_ID_Area045</th>\n",
       "      <th>...</th>\n",
       "      <th>obj_to_dum__SidEffect_Level_mild</th>\n",
       "      <th>obj_to_dum__Area_Type_DownTown</th>\n",
       "      <th>obj_to_dum__Area_Type_MidTownResidential</th>\n",
       "      <th>obj_to_dum__Area_Type_CityLimits</th>\n",
       "      <th>obj_to_dum__Area_City_Type_Tier 3</th>\n",
       "      <th>obj_to_dum__Area_City_Type_Tier 2</th>\n",
       "      <th>obj_to_dum__Area_dist_level_Medium</th>\n",
       "      <th>obj_to_dum__Area_dist_level_Unknown</th>\n",
       "      <th>obj_to_dum__Area_dist_level_Small</th>\n",
       "      <th>Counterfeit_Sales</th>\n",
       "    </tr>\n",
       "  </thead>\n",
       "  <tbody>\n",
       "    <tr>\n",
       "      <th>0</th>\n",
       "      <td>13.100</td>\n",
       "      <td>1995.0</td>\n",
       "      <td>160.2366</td>\n",
       "      <td>0.070422</td>\n",
       "      <td>0.0</td>\n",
       "      <td>0.0</td>\n",
       "      <td>1.0</td>\n",
       "      <td>0.0</td>\n",
       "      <td>0.0</td>\n",
       "      <td>0.0</td>\n",
       "      <td>...</td>\n",
       "      <td>0.0</td>\n",
       "      <td>1.0</td>\n",
       "      <td>0.0</td>\n",
       "      <td>0.0</td>\n",
       "      <td>0.0</td>\n",
       "      <td>0.0</td>\n",
       "      <td>0.0</td>\n",
       "      <td>0.0</td>\n",
       "      <td>1.0</td>\n",
       "      <td>1775.5026</td>\n",
       "    </tr>\n",
       "    <tr>\n",
       "      <th>1</th>\n",
       "      <td>13.800</td>\n",
       "      <td>1983.0</td>\n",
       "      <td>110.4384</td>\n",
       "      <td>0.013000</td>\n",
       "      <td>0.0</td>\n",
       "      <td>0.0</td>\n",
       "      <td>0.0</td>\n",
       "      <td>0.0</td>\n",
       "      <td>0.0</td>\n",
       "      <td>0.0</td>\n",
       "      <td>...</td>\n",
       "      <td>1.0</td>\n",
       "      <td>0.0</td>\n",
       "      <td>0.0</td>\n",
       "      <td>1.0</td>\n",
       "      <td>1.0</td>\n",
       "      <td>0.0</td>\n",
       "      <td>1.0</td>\n",
       "      <td>0.0</td>\n",
       "      <td>0.0</td>\n",
       "      <td>3069.1520</td>\n",
       "    </tr>\n",
       "    <tr>\n",
       "      <th>2</th>\n",
       "      <td>9.025</td>\n",
       "      <td>1995.0</td>\n",
       "      <td>259.4092</td>\n",
       "      <td>0.060783</td>\n",
       "      <td>0.0</td>\n",
       "      <td>0.0</td>\n",
       "      <td>1.0</td>\n",
       "      <td>0.0</td>\n",
       "      <td>0.0</td>\n",
       "      <td>0.0</td>\n",
       "      <td>...</td>\n",
       "      <td>1.0</td>\n",
       "      <td>1.0</td>\n",
       "      <td>0.0</td>\n",
       "      <td>0.0</td>\n",
       "      <td>0.0</td>\n",
       "      <td>0.0</td>\n",
       "      <td>0.0</td>\n",
       "      <td>0.0</td>\n",
       "      <td>1.0</td>\n",
       "      <td>2603.0920</td>\n",
       "    </tr>\n",
       "    <tr>\n",
       "      <th>3</th>\n",
       "      <td>11.800</td>\n",
       "      <td>1995.0</td>\n",
       "      <td>99.9830</td>\n",
       "      <td>0.065555</td>\n",
       "      <td>0.0</td>\n",
       "      <td>0.0</td>\n",
       "      <td>1.0</td>\n",
       "      <td>0.0</td>\n",
       "      <td>0.0</td>\n",
       "      <td>0.0</td>\n",
       "      <td>...</td>\n",
       "      <td>1.0</td>\n",
       "      <td>1.0</td>\n",
       "      <td>0.0</td>\n",
       "      <td>0.0</td>\n",
       "      <td>0.0</td>\n",
       "      <td>0.0</td>\n",
       "      <td>0.0</td>\n",
       "      <td>0.0</td>\n",
       "      <td>1.0</td>\n",
       "      <td>1101.7130</td>\n",
       "    </tr>\n",
       "    <tr>\n",
       "      <th>4</th>\n",
       "      <td>13.800</td>\n",
       "      <td>1983.0</td>\n",
       "      <td>56.4402</td>\n",
       "      <td>0.248859</td>\n",
       "      <td>0.0</td>\n",
       "      <td>0.0</td>\n",
       "      <td>0.0</td>\n",
       "      <td>0.0</td>\n",
       "      <td>0.0</td>\n",
       "      <td>0.0</td>\n",
       "      <td>...</td>\n",
       "      <td>0.0</td>\n",
       "      <td>0.0</td>\n",
       "      <td>1.0</td>\n",
       "      <td>0.0</td>\n",
       "      <td>0.0</td>\n",
       "      <td>0.0</td>\n",
       "      <td>0.0</td>\n",
       "      <td>0.0</td>\n",
       "      <td>1.0</td>\n",
       "      <td>158.9402</td>\n",
       "    </tr>\n",
       "    <tr>\n",
       "      <th>...</th>\n",
       "      <td>...</td>\n",
       "      <td>...</td>\n",
       "      <td>...</td>\n",
       "      <td>...</td>\n",
       "      <td>...</td>\n",
       "      <td>...</td>\n",
       "      <td>...</td>\n",
       "      <td>...</td>\n",
       "      <td>...</td>\n",
       "      <td>...</td>\n",
       "      <td>...</td>\n",
       "      <td>...</td>\n",
       "      <td>...</td>\n",
       "      <td>...</td>\n",
       "      <td>...</td>\n",
       "      <td>...</td>\n",
       "      <td>...</td>\n",
       "      <td>...</td>\n",
       "      <td>...</td>\n",
       "      <td>...</td>\n",
       "      <td>...</td>\n",
       "    </tr>\n",
       "    <tr>\n",
       "      <th>6813</th>\n",
       "      <td>8.535</td>\n",
       "      <td>1995.0</td>\n",
       "      <td>204.1452</td>\n",
       "      <td>0.112963</td>\n",
       "      <td>0.0</td>\n",
       "      <td>0.0</td>\n",
       "      <td>1.0</td>\n",
       "      <td>0.0</td>\n",
       "      <td>0.0</td>\n",
       "      <td>0.0</td>\n",
       "      <td>...</td>\n",
       "      <td>1.0</td>\n",
       "      <td>1.0</td>\n",
       "      <td>0.0</td>\n",
       "      <td>0.0</td>\n",
       "      <td>0.0</td>\n",
       "      <td>0.0</td>\n",
       "      <td>0.0</td>\n",
       "      <td>0.0</td>\n",
       "      <td>1.0</td>\n",
       "      <td>2070.4520</td>\n",
       "    </tr>\n",
       "    <tr>\n",
       "      <th>6814</th>\n",
       "      <td>20.650</td>\n",
       "      <td>1995.0</td>\n",
       "      <td>235.1088</td>\n",
       "      <td>0.131103</td>\n",
       "      <td>0.0</td>\n",
       "      <td>0.0</td>\n",
       "      <td>1.0</td>\n",
       "      <td>0.0</td>\n",
       "      <td>0.0</td>\n",
       "      <td>0.0</td>\n",
       "      <td>...</td>\n",
       "      <td>1.0</td>\n",
       "      <td>1.0</td>\n",
       "      <td>0.0</td>\n",
       "      <td>0.0</td>\n",
       "      <td>0.0</td>\n",
       "      <td>0.0</td>\n",
       "      <td>0.0</td>\n",
       "      <td>0.0</td>\n",
       "      <td>1.0</td>\n",
       "      <td>2126.3792</td>\n",
       "    </tr>\n",
       "    <tr>\n",
       "      <th>6815</th>\n",
       "      <td>20.000</td>\n",
       "      <td>2005.0</td>\n",
       "      <td>193.6292</td>\n",
       "      <td>0.105096</td>\n",
       "      <td>1.0</td>\n",
       "      <td>0.0</td>\n",
       "      <td>0.0</td>\n",
       "      <td>0.0</td>\n",
       "      <td>0.0</td>\n",
       "      <td>0.0</td>\n",
       "      <td>...</td>\n",
       "      <td>0.0</td>\n",
       "      <td>1.0</td>\n",
       "      <td>0.0</td>\n",
       "      <td>0.0</td>\n",
       "      <td>0.0</td>\n",
       "      <td>1.0</td>\n",
       "      <td>0.0</td>\n",
       "      <td>1.0</td>\n",
       "      <td>0.0</td>\n",
       "      <td>2119.7212</td>\n",
       "    </tr>\n",
       "    <tr>\n",
       "      <th>6816</th>\n",
       "      <td>10.180</td>\n",
       "      <td>2000.0</td>\n",
       "      <td>162.8682</td>\n",
       "      <td>0.099957</td>\n",
       "      <td>0.0</td>\n",
       "      <td>0.0</td>\n",
       "      <td>0.0</td>\n",
       "      <td>0.0</td>\n",
       "      <td>0.0</td>\n",
       "      <td>1.0</td>\n",
       "      <td>...</td>\n",
       "      <td>1.0</td>\n",
       "      <td>1.0</td>\n",
       "      <td>0.0</td>\n",
       "      <td>0.0</td>\n",
       "      <td>0.0</td>\n",
       "      <td>1.0</td>\n",
       "      <td>0.0</td>\n",
       "      <td>1.0</td>\n",
       "      <td>0.0</td>\n",
       "      <td>1485.2138</td>\n",
       "    </tr>\n",
       "    <tr>\n",
       "      <th>6817</th>\n",
       "      <td>7.930</td>\n",
       "      <td>2007.0</td>\n",
       "      <td>177.5500</td>\n",
       "      <td>0.117445</td>\n",
       "      <td>0.0</td>\n",
       "      <td>0.0</td>\n",
       "      <td>0.0</td>\n",
       "      <td>0.0</td>\n",
       "      <td>0.0</td>\n",
       "      <td>0.0</td>\n",
       "      <td>...</td>\n",
       "      <td>0.0</td>\n",
       "      <td>0.0</td>\n",
       "      <td>0.0</td>\n",
       "      <td>0.0</td>\n",
       "      <td>1.0</td>\n",
       "      <td>0.0</td>\n",
       "      <td>1.0</td>\n",
       "      <td>0.0</td>\n",
       "      <td>0.0</td>\n",
       "      <td>1943.9500</td>\n",
       "    </tr>\n",
       "  </tbody>\n",
       "</table>\n",
       "<p>6818 rows × 31 columns</p>\n",
       "</div>"
      ],
      "text/plain": [
       "      num_var__Counterfeit_Weight  num_var__Active_Since  \\\n",
       "0                          13.100                 1995.0   \n",
       "1                          13.800                 1983.0   \n",
       "2                           9.025                 1995.0   \n",
       "3                          11.800                 1995.0   \n",
       "4                          13.800                 1983.0   \n",
       "...                           ...                    ...   \n",
       "6813                        8.535                 1995.0   \n",
       "6814                       20.650                 1995.0   \n",
       "6815                       20.000                 2005.0   \n",
       "6816                       10.180                 2000.0   \n",
       "6817                        7.930                 2007.0   \n",
       "\n",
       "      num_var__Medicine_MRP  num_var__Availability_rating  \\\n",
       "0                  160.2366                      0.070422   \n",
       "1                  110.4384                      0.013000   \n",
       "2                  259.4092                      0.060783   \n",
       "3                   99.9830                      0.065555   \n",
       "4                   56.4402                      0.248859   \n",
       "...                     ...                           ...   \n",
       "6813               204.1452                      0.112963   \n",
       "6814               235.1088                      0.131103   \n",
       "6815               193.6292                      0.105096   \n",
       "6816               162.8682                      0.099957   \n",
       "6817               177.5500                      0.117445   \n",
       "\n",
       "      obj_to_dum__DistArea_ID_Area017  obj_to_dum__DistArea_ID_Area013  \\\n",
       "0                                 0.0                              0.0   \n",
       "1                                 0.0                              0.0   \n",
       "2                                 0.0                              0.0   \n",
       "3                                 0.0                              0.0   \n",
       "4                                 0.0                              0.0   \n",
       "...                               ...                              ...   \n",
       "6813                              0.0                              0.0   \n",
       "6814                              0.0                              0.0   \n",
       "6815                              1.0                              0.0   \n",
       "6816                              0.0                              0.0   \n",
       "6817                              0.0                              0.0   \n",
       "\n",
       "      obj_to_dum__DistArea_ID_Area046  obj_to_dum__DistArea_ID_Area035  \\\n",
       "0                                 1.0                              0.0   \n",
       "1                                 0.0                              0.0   \n",
       "2                                 1.0                              0.0   \n",
       "3                                 1.0                              0.0   \n",
       "4                                 0.0                              0.0   \n",
       "...                               ...                              ...   \n",
       "6813                              1.0                              0.0   \n",
       "6814                              1.0                              0.0   \n",
       "6815                              0.0                              0.0   \n",
       "6816                              0.0                              0.0   \n",
       "6817                              0.0                              0.0   \n",
       "\n",
       "      obj_to_dum__DistArea_ID_Area049  obj_to_dum__DistArea_ID_Area045  ...  \\\n",
       "0                                 0.0                              0.0  ...   \n",
       "1                                 0.0                              0.0  ...   \n",
       "2                                 0.0                              0.0  ...   \n",
       "3                                 0.0                              0.0  ...   \n",
       "4                                 0.0                              0.0  ...   \n",
       "...                               ...                              ...  ...   \n",
       "6813                              0.0                              0.0  ...   \n",
       "6814                              0.0                              0.0  ...   \n",
       "6815                              0.0                              0.0  ...   \n",
       "6816                              0.0                              1.0  ...   \n",
       "6817                              0.0                              0.0  ...   \n",
       "\n",
       "      obj_to_dum__SidEffect_Level_mild  obj_to_dum__Area_Type_DownTown  \\\n",
       "0                                  0.0                             1.0   \n",
       "1                                  1.0                             0.0   \n",
       "2                                  1.0                             1.0   \n",
       "3                                  1.0                             1.0   \n",
       "4                                  0.0                             0.0   \n",
       "...                                ...                             ...   \n",
       "6813                               1.0                             1.0   \n",
       "6814                               1.0                             1.0   \n",
       "6815                               0.0                             1.0   \n",
       "6816                               1.0                             1.0   \n",
       "6817                               0.0                             0.0   \n",
       "\n",
       "      obj_to_dum__Area_Type_MidTownResidential  \\\n",
       "0                                          0.0   \n",
       "1                                          0.0   \n",
       "2                                          0.0   \n",
       "3                                          0.0   \n",
       "4                                          1.0   \n",
       "...                                        ...   \n",
       "6813                                       0.0   \n",
       "6814                                       0.0   \n",
       "6815                                       0.0   \n",
       "6816                                       0.0   \n",
       "6817                                       0.0   \n",
       "\n",
       "      obj_to_dum__Area_Type_CityLimits  obj_to_dum__Area_City_Type_Tier 3  \\\n",
       "0                                  0.0                                0.0   \n",
       "1                                  1.0                                1.0   \n",
       "2                                  0.0                                0.0   \n",
       "3                                  0.0                                0.0   \n",
       "4                                  0.0                                0.0   \n",
       "...                                ...                                ...   \n",
       "6813                               0.0                                0.0   \n",
       "6814                               0.0                                0.0   \n",
       "6815                               0.0                                0.0   \n",
       "6816                               0.0                                0.0   \n",
       "6817                               0.0                                1.0   \n",
       "\n",
       "      obj_to_dum__Area_City_Type_Tier 2  obj_to_dum__Area_dist_level_Medium  \\\n",
       "0                                   0.0                                 0.0   \n",
       "1                                   0.0                                 1.0   \n",
       "2                                   0.0                                 0.0   \n",
       "3                                   0.0                                 0.0   \n",
       "4                                   0.0                                 0.0   \n",
       "...                                 ...                                 ...   \n",
       "6813                                0.0                                 0.0   \n",
       "6814                                0.0                                 0.0   \n",
       "6815                                1.0                                 0.0   \n",
       "6816                                1.0                                 0.0   \n",
       "6817                                0.0                                 1.0   \n",
       "\n",
       "      obj_to_dum__Area_dist_level_Unknown  obj_to_dum__Area_dist_level_Small  \\\n",
       "0                                     0.0                                1.0   \n",
       "1                                     0.0                                0.0   \n",
       "2                                     0.0                                1.0   \n",
       "3                                     0.0                                1.0   \n",
       "4                                     0.0                                1.0   \n",
       "...                                   ...                                ...   \n",
       "6813                                  0.0                                1.0   \n",
       "6814                                  0.0                                1.0   \n",
       "6815                                  1.0                                0.0   \n",
       "6816                                  1.0                                0.0   \n",
       "6817                                  0.0                                0.0   \n",
       "\n",
       "      Counterfeit_Sales  \n",
       "0             1775.5026  \n",
       "1             3069.1520  \n",
       "2             2603.0920  \n",
       "3             1101.7130  \n",
       "4              158.9402  \n",
       "...                 ...  \n",
       "6813          2070.4520  \n",
       "6814          2126.3792  \n",
       "6815          2119.7212  \n",
       "6816          1485.2138  \n",
       "6817          1943.9500  \n",
       "\n",
       "[6818 rows x 31 columns]"
      ]
     },
     "execution_count": 42,
     "metadata": {},
     "output_type": "execute_result"
    }
   ],
   "source": [
    "x_train"
   ]
  },
  {
   "cell_type": "code",
   "execution_count": 43,
   "id": "f0d85501",
   "metadata": {},
   "outputs": [],
   "source": [
    "x_train=x_train.drop(['Counterfeit_Sales'],axis=1)"
   ]
  },
  {
   "cell_type": "code",
   "execution_count": 44,
   "id": "61d8aca2",
   "metadata": {},
   "outputs": [
    {
     "data": {
      "text/plain": [
       "DecisionTreeRegressor(max_depth=5)"
      ]
     },
     "execution_count": 44,
     "metadata": {},
     "output_type": "execute_result"
    }
   ],
   "source": [
    "dtree.fit(x_train,y_train)"
   ]
  },
  {
   "cell_type": "code",
   "execution_count": 45,
   "id": "259d73a6",
   "metadata": {},
   "outputs": [],
   "source": [
    "pred_dtree=dtree.predict(x_test)"
   ]
  },
  {
   "cell_type": "code",
   "execution_count": 48,
   "id": "8abb3acf",
   "metadata": {},
   "outputs": [],
   "source": [
    "test_pred_res = pd.DataFrame(pred_dtree)"
   ]
  },
  {
   "cell_type": "code",
   "execution_count": 46,
   "id": "dc6eb8fc",
   "metadata": {},
   "outputs": [],
   "source": [
    "data_test=r\"C:\\Users\\isaac\\Documents\\Python Scripts\\Project\\Project 3 Public Safety\\counterfeit_test.csv\"\n",
    "test_data=pd.read_csv(data_test)"
   ]
  },
  {
   "cell_type": "code",
   "execution_count": 49,
   "id": "7dd4d767",
   "metadata": {},
   "outputs": [],
   "source": [
    "final_res=pd.concat([test_data['Medicine_ID'],test_pred_res],axis=1)"
   ]
  },
  {
   "cell_type": "code",
   "execution_count": 50,
   "id": "0d3cc3e6",
   "metadata": {},
   "outputs": [
    {
     "data": {
      "text/html": [
       "<div>\n",
       "<style scoped>\n",
       "    .dataframe tbody tr th:only-of-type {\n",
       "        vertical-align: middle;\n",
       "    }\n",
       "\n",
       "    .dataframe tbody tr th {\n",
       "        vertical-align: top;\n",
       "    }\n",
       "\n",
       "    .dataframe thead th {\n",
       "        text-align: right;\n",
       "    }\n",
       "</style>\n",
       "<table border=\"1\" class=\"dataframe\">\n",
       "  <thead>\n",
       "    <tr style=\"text-align: right;\">\n",
       "      <th></th>\n",
       "      <th>Medicine_ID</th>\n",
       "      <th>0</th>\n",
       "    </tr>\n",
       "  </thead>\n",
       "  <tbody>\n",
       "    <tr>\n",
       "      <th>0</th>\n",
       "      <td>HLZ81</td>\n",
       "      <td>2008.029853</td>\n",
       "    </tr>\n",
       "    <tr>\n",
       "      <th>1</th>\n",
       "      <td>ECE94</td>\n",
       "      <td>4055.506813</td>\n",
       "    </tr>\n",
       "    <tr>\n",
       "      <th>2</th>\n",
       "      <td>SAD14</td>\n",
       "      <td>1589.413296</td>\n",
       "    </tr>\n",
       "    <tr>\n",
       "      <th>3</th>\n",
       "      <td>EQV63</td>\n",
       "      <td>498.403086</td>\n",
       "    </tr>\n",
       "    <tr>\n",
       "      <th>4</th>\n",
       "      <td>AIR10</td>\n",
       "      <td>394.210178</td>\n",
       "    </tr>\n",
       "    <tr>\n",
       "      <th>...</th>\n",
       "      <td>...</td>\n",
       "      <td>...</td>\n",
       "    </tr>\n",
       "    <tr>\n",
       "      <th>1700</th>\n",
       "      <td>KXW10</td>\n",
       "      <td>3314.665750</td>\n",
       "    </tr>\n",
       "    <tr>\n",
       "      <th>1701</th>\n",
       "      <td>CKE54</td>\n",
       "      <td>806.516933</td>\n",
       "    </tr>\n",
       "    <tr>\n",
       "      <th>1702</th>\n",
       "      <td>HAY13</td>\n",
       "      <td>3115.791218</td>\n",
       "    </tr>\n",
       "    <tr>\n",
       "      <th>1703</th>\n",
       "      <td>ZEE32</td>\n",
       "      <td>3476.129932</td>\n",
       "    </tr>\n",
       "    <tr>\n",
       "      <th>1704</th>\n",
       "      <td>NDL93</td>\n",
       "      <td>4055.506813</td>\n",
       "    </tr>\n",
       "  </tbody>\n",
       "</table>\n",
       "<p>1705 rows × 2 columns</p>\n",
       "</div>"
      ],
      "text/plain": [
       "     Medicine_ID            0\n",
       "0          HLZ81  2008.029853\n",
       "1          ECE94  4055.506813\n",
       "2          SAD14  1589.413296\n",
       "3          EQV63   498.403086\n",
       "4          AIR10   394.210178\n",
       "...          ...          ...\n",
       "1700       KXW10  3314.665750\n",
       "1701       CKE54   806.516933\n",
       "1702       HAY13  3115.791218\n",
       "1703       ZEE32  3476.129932\n",
       "1704       NDL93  4055.506813\n",
       "\n",
       "[1705 rows x 2 columns]"
      ]
     },
     "execution_count": 50,
     "metadata": {},
     "output_type": "execute_result"
    }
   ],
   "source": [
    "final_res"
   ]
  },
  {
   "cell_type": "markdown",
   "id": "653c37a5",
   "metadata": {},
   "source": [
    "### Final Submission 2"
   ]
  },
  {
   "cell_type": "code",
   "execution_count": 51,
   "id": "9864db26",
   "metadata": {},
   "outputs": [],
   "source": [
    "pd.DataFrame(final_res).to_csv(\"mysubmissionrsdt02.csv\",index=False)"
   ]
  }
 ],
 "metadata": {
  "kernelspec": {
   "display_name": "Python 3",
   "language": "python",
   "name": "python3"
  },
  "language_info": {
   "codemirror_mode": {
    "name": "ipython",
    "version": 3
   },
   "file_extension": ".py",
   "mimetype": "text/x-python",
   "name": "python",
   "nbconvert_exporter": "python",
   "pygments_lexer": "ipython3",
   "version": "3.8.8"
  }
 },
 "nbformat": 4,
 "nbformat_minor": 5
}
